{
 "cells": [
  {
   "cell_type": "markdown",
   "metadata": {
    "id": "M-DGa20PaHnu"
   },
   "source": [
    "#Задача 1\n",
    "Написать функцию на вход которой подается строка, состоящая из латинских букв.\n",
    "Функция должна вернуть количество гласных букв (a, e, i, o, u) в этой строке. Написать тесты для кода"
   ]
  },
  {
   "cell_type": "code",
   "execution_count": 10,
   "metadata": {
    "id": "XvX8X_JJ6PCb"
   },
   "outputs": [
    {
     "name": "stdout",
     "output_type": "stream",
     "text": [
      "13 4\n"
     ]
    }
   ],
   "source": [
    "def count_char(word):\n",
    "    return word.count('a') + word.count('e') + word.count('i') + word.count('o') + word.count('u')\n",
    "    \n",
    "#тесты\n",
    "print(count_char('abaeauoaaaiieofhggjhjcd'), count_char('hugaqhofqjipqwmvk'))\n",
    "    "
   ]
  },
  {
   "cell_type": "markdown",
   "metadata": {
    "id": "t2ClV_Y0bbr6"
   },
   "source": [
    "# Задача 2\n",
    "Написать функцию на вход, которой подается строка. Функция должна вернуть true, если\n",
    "каждый символ в строке встречается только 1 раз, иначе должна вернуть false. Написать тесты для кода"
   ]
  },
  {
   "cell_type": "code",
   "execution_count": 32,
   "metadata": {
    "id": "FppbECao6VIz"
   },
   "outputs": [
    {
     "name": "stdout",
     "output_type": "stream",
     "text": [
      "True False\n"
     ]
    }
   ],
   "source": [
    "def one_char(s):\n",
    "    a = {c: s.count(c) for c in set(s)}\n",
    "    for i in a:\n",
    "        if a[i] != 1:\n",
    "            return False\n",
    "    return True\n",
    "\n",
    "#тесты\n",
    "print(one_char('oiegrnwfjk'), one_char('fffgjsahkd'))"
   ]
  },
  {
   "cell_type": "markdown",
   "metadata": {
    "id": "udRiIK1cdt6E"
   },
   "source": [
    "# Задача 3\n",
    "Написать функцию, которая принимает положительное число и возвращает количество\n",
    "бит равных 1 в этом числе. Написать тесты для кода"
   ]
  },
  {
   "cell_type": "code",
   "execution_count": 17,
   "metadata": {
    "id": "6tkfDJRz6dp_"
   },
   "outputs": [
    {
     "name": "stdout",
     "output_type": "stream",
     "text": [
      "('0b101101', 4) ('0b100000000', 1)\n"
     ]
    }
   ],
   "source": [
    "def bit(n):\n",
    "    a = bin(n)\n",
    "    return a, a.count('1')\n",
    "\n",
    "#тесты\n",
    "print(bit(45), bit(256))"
   ]
  },
  {
   "cell_type": "markdown",
   "metadata": {
    "id": "26dDUz-Ae17N"
   },
   "source": [
    "# Задача 4\n",
    "Написать функцию, которая принимает положительное число. Функция должна вернуть то,\n",
    "сколько раз необходимо перемножать цифры числа или результат перемножения, чтобы\n",
    "получилось число состоящее из одной цифры.\n",
    "Например, для входного числа:\n",
    "· 39 функция должна вернуть 3, так как 3*9=27 => 2*7=14 => 1*4=4\n",
    "· 4 функция должна вернуть 0, так как число уже состоит из одной цифры\n",
    "· 999 функция должна вернуть 4, так как 9*9*9=729 => 7*2*9=126 => 1*2*6=12 =>\n",
    "1*2=2. Написать тесты для кода"
   ]
  },
  {
   "cell_type": "code",
   "execution_count": 49,
   "metadata": {
    "id": "BH1A_Mgi6i4G"
   },
   "outputs": [
    {
     "name": "stdout",
     "output_type": "stream",
     "text": [
      "0 3 4 2\n"
     ]
    }
   ],
   "source": [
    "def magic(n):\n",
    "    k = 0\n",
    "    if len(str(n)) == 1:\n",
    "        return k\n",
    "    c = 1\n",
    "    while len(str(n)) != 1:\n",
    "        for i in str(n):\n",
    "            c *= int(i)\n",
    "            n = c \n",
    "        c = 1\n",
    "        k += 1\n",
    "    return k\n",
    "\n",
    "#тесты\n",
    "print(magic(4), magic(39), magic(999), magic(573298))"
   ]
  },
  {
   "cell_type": "markdown",
   "metadata": {
    "id": "0nS-kIa8g8vd"
   },
   "source": [
    "# Задача 5\n",
    "Написать функцию, которая принимает два целочисленных вектора одинаковой длины и\n",
    "возвращает среднеквадратическое отклонение двух векторов. Написать тесты для кода"
   ]
  },
  {
   "cell_type": "code",
   "execution_count": 68,
   "metadata": {
    "id": "8iphx4LM6xbx"
   },
   "outputs": [
    {
     "name": "stdout",
     "output_type": "stream",
     "text": [
      "28.284271247461902 310202.0880522889\n"
     ]
    }
   ],
   "source": [
    "import statistics as st\n",
    "\n",
    "def mse(pred, true):\n",
    "    a = []\n",
    "    a.append(pred)\n",
    "    a.append(true)\n",
    "    return st.stdev(a)\n",
    "\n",
    "#тесты\n",
    "print(mse(10, 50), mse(100, 438792))"
   ]
  },
  {
   "cell_type": "markdown",
   "metadata": {
    "id": "vpIPKL439zkw"
   },
   "source": [
    "# Задача 6\n",
    "Написать функцию, принимающая целое положительное число. Функция должна вернуть\n",
    "строку вида “(n1**p1)(n2**p2)…(nk**pk)” представляющая разложение числа на простые\n",
    "множители (если pi == 1, то выводить только ni).\n",
    "Например, для числа 86240 функция должна вернуть “(2**5)(5)(7**2)(11)”. Написать тесты для кода"
   ]
  },
  {
   "cell_type": "code",
   "execution_count": 49,
   "metadata": {
    "id": "pFebmcZk94Jw"
   },
   "outputs": [
    {
     "name": "stdout",
     "output_type": "stream",
     "text": [
      "(2|5)(5)(7|2)(11) (2|2)(5)(446609)\n"
     ]
    }
   ],
   "source": [
    "def primfacs(n):\n",
    "   i = 2\n",
    "   k = 0\n",
    "   flag = 0\n",
    "   result = ''\n",
    "   while i * i <= n:\n",
    "       while n % i == 0:\n",
    "           n = n // i\n",
    "           k += 1\n",
    "           flag = 1\n",
    "       if flag == 1:\n",
    "           if k == 1:\n",
    "               result += '(' + str(i) + ')'\n",
    "           else:\n",
    "               result += '(' + str(i) + '|' + str(k) + ')'\n",
    "           flag = 0\n",
    "       k = 0\n",
    "       i = i + 1\n",
    "   if n > 1:\n",
    "       result += '(' + str(n) + ')'\n",
    "   return result\n",
    "           \n",
    "           \n",
    "#тесты\n",
    "print(primfacs(86240), primfacs(8932180))"
   ]
  },
  {
   "cell_type": "markdown",
   "metadata": {
    "id": "ps2s0BudX7A2"
   },
   "source": [
    "# Задача 7\n",
    "Написать функцию, принимающая целое число n, задающее количество кубиков. Функция\n",
    "должна определить, можно ли из данного кол-ва кубиков построить пирамиду, то есть\n",
    "можно ли представить число n как 1^2+2^2+3^2+…+k^2. Если можно, то функция должна\n",
    "вернуть k, иначе строку “It is impossible”. Написать тесты для кода"
   ]
  },
  {
   "cell_type": "code",
   "execution_count": 61,
   "metadata": {
    "id": "3YPjEXxhX_YT"
   },
   "outputs": [
    {
     "name": "stdout",
     "output_type": "stream",
     "text": [
      "3 2 It is impossible\n"
     ]
    }
   ],
   "source": [
    "def pyramid(number):\n",
    "    k = 1\n",
    "    while number != 0:\n",
    "        if number > k**2:\n",
    "            number -= k**2\n",
    "            k += 1\n",
    "        elif number == k**2:\n",
    "            number -= k**2\n",
    "        else:\n",
    "            return 'It is impossible'\n",
    "    return k\n",
    "\n",
    "#тесты\n",
    "print(pyramid(14), pyramid(5), pyramid(482910))"
   ]
  },
  {
   "cell_type": "markdown",
   "metadata": {
    "id": "KeKgmIdAQMEJ"
   },
   "source": [
    "# Задача 8\n",
    "Функция принимает на вход положительное число и определяет является ли оно сбалансированным, т.е. сумма цифр до средних равна сумме цифр после. Средними в случае нечетного числа цифр считать одну цифру, в случае четного - две средних. Написать тесты для кода"
   ]
  },
  {
   "cell_type": "code",
   "execution_count": 82,
   "metadata": {
    "id": "gMAAqtqlQrZt"
   },
   "outputs": [
    {
     "name": "stdout",
     "output_type": "stream",
     "text": [
      "(9, 9, True) (12, 24, False)\n"
     ]
    }
   ],
   "source": [
    "def sred(n):\n",
    "    n = str(n)\n",
    "    n1 = ''\n",
    "    n2 = ''\n",
    "    sum_n1 = 0\n",
    "    sum_n2 = 0\n",
    "    if len(n) % 2 == 0:\n",
    "        k = (len(n) - 2) // 2\n",
    "        n1 = n[:k]\n",
    "        n2 = n[k+2:]\n",
    "    else:\n",
    "        k = (len(n) - 1) // 2\n",
    "        n1 = n[:k]\n",
    "        n2 = n[k+1:]\n",
    "    for i in range(len(n1)):\n",
    "        sum_n1 += int(n1[i])\n",
    "        sum_n2 += int(n2[i])\n",
    "    if sum_n1 == sum_n2:\n",
    "        return sum_n1, sum_n2, True\n",
    "    else:\n",
    "        return sum_n1, sum_n2, False\n",
    "\n",
    "#тесты\n",
    "print(sred(23456234), sred(4623879))       "
   ]
  },
  {
   "cell_type": "code",
   "execution_count": null,
   "metadata": {},
   "outputs": [],
   "source": []
  }
 ],
 "metadata": {
  "colab": {
   "provenance": []
  },
  "kernelspec": {
   "display_name": "Python 3 (ipykernel)",
   "language": "python",
   "name": "python3"
  },
  "language_info": {
   "codemirror_mode": {
    "name": "ipython",
    "version": 3
   },
   "file_extension": ".py",
   "mimetype": "text/x-python",
   "name": "python",
   "nbconvert_exporter": "python",
   "pygments_lexer": "ipython3",
   "version": "3.9.0"
  }
 },
 "nbformat": 4,
 "nbformat_minor": 4
}
